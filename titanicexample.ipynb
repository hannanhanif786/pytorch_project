{
 "cells": [
  {
   "cell_type": "code",
   "execution_count": 1,
   "id": "7cd61858-f9e4-4240-934d-6859f3ca4b60",
   "metadata": {},
   "outputs": [],
   "source": [
    "import torch\n",
    "import torch.nn as nn\n",
    "import torch.optim as optim\n",
    "import numpy as np\n",
    "import pandas as pd\n",
    "from sklearn.model_selection import train_test_split\n",
    "from sklearn.preprocessing import StandardScaler"
   ]
  },
  {
   "cell_type": "code",
   "execution_count": 2,
   "id": "c8964e9d-3bb7-4690-a7eb-7c273ef66154",
   "metadata": {
    "tags": []
   },
   "outputs": [],
   "source": [
    "df = pd.read_csv(\"train.csv\")\n",
    "# df.head() "
   ]
  },
  {
   "cell_type": "code",
   "execution_count": 3,
   "id": "b8a49211-8b1d-4c34-90f1-b5c21da0646b",
   "metadata": {
    "tags": []
   },
   "outputs": [],
   "source": [
    "df = df[[\"Pclass\",\"Sex\",\"Age\",\"Fare\",\"Survived\"]]\n"
   ]
  },
  {
   "cell_type": "code",
   "execution_count": 4,
   "id": "1e872378-af33-48da-8554-d25d30101827",
   "metadata": {
    "tags": []
   },
   "outputs": [
    {
     "name": "stdout",
     "output_type": "stream",
     "text": [
      "<class 'pandas.core.frame.DataFrame'>\n",
      "RangeIndex: 891 entries, 0 to 890\n",
      "Data columns (total 5 columns):\n",
      " #   Column    Non-Null Count  Dtype  \n",
      "---  ------    --------------  -----  \n",
      " 0   Pclass    891 non-null    int64  \n",
      " 1   Sex       891 non-null    object \n",
      " 2   Age       714 non-null    float64\n",
      " 3   Fare      891 non-null    float64\n",
      " 4   Survived  891 non-null    int64  \n",
      "dtypes: float64(2), int64(2), object(1)\n",
      "memory usage: 34.9+ KB\n"
     ]
    }
   ],
   "source": [
    "df.info()"
   ]
  },
  {
   "cell_type": "code",
   "execution_count": 5,
   "id": "b73a8ca4-bcc3-4500-80fb-e366a5b1e268",
   "metadata": {
    "tags": []
   },
   "outputs": [],
   "source": [
    "mean_age = df[\"Age\"].mean()\n",
    "df.fillna(mean_age, axis=1, inplace=True)\n",
    "# df.info()"
   ]
  },
  {
   "cell_type": "code",
   "execution_count": 6,
   "id": "d2828a8f-e3f8-468d-b66f-c8cc9d82ac1e",
   "metadata": {
    "tags": []
   },
   "outputs": [],
   "source": [
    "df[\"Sex\"] = df[\"Sex\"].map({\"male\":0, \"female\":1})\n",
    "# df.head()"
   ]
  },
  {
   "cell_type": "code",
   "execution_count": 7,
   "id": "70bf2147-4131-4701-b845-78629bb13dae",
   "metadata": {
    "tags": []
   },
   "outputs": [],
   "source": [
    "x = df[[\"Pclass\",\"Sex\",\"Age\",\"Fare\"]].values\n",
    "y = df[\"Survived\"].values\n",
    "\n",
    "# print(type(x), type(y))"
   ]
  },
  {
   "cell_type": "code",
   "execution_count": 8,
   "id": "40fd0590-b31c-4033-85b9-cf11adcaf578",
   "metadata": {
    "tags": []
   },
   "outputs": [],
   "source": [
    "sc = StandardScaler()\n",
    "x = sc.fit_transform(x)\n"
   ]
  },
  {
   "cell_type": "code",
   "execution_count": 9,
   "id": "6907937b-0315-4b68-89b4-b29a96cc2651",
   "metadata": {
    "tags": []
   },
   "outputs": [
    {
     "name": "stdout",
     "output_type": "stream",
     "text": [
      "<class 'numpy.ndarray'>\n",
      "<class 'numpy.ndarray'>\n"
     ]
    }
   ],
   "source": [
    "x_train, x_test, y_train, y_test = train_test_split(x, y, test_size=0.2)\n",
    "print(type(x_train))\n",
    "print(type(y_train))"
   ]
  },
  {
   "cell_type": "code",
   "execution_count": 10,
   "id": "12d3a2a6-8ad2-4bcf-8b09-b16ab4e1877d",
   "metadata": {},
   "outputs": [],
   "source": [
    "x_train = torch.tensor(x_train, dtype = torch.float32)\n",
    "x_test = torch.tensor(x_test, dtype = torch.float32)\n",
    "y_train = torch.tensor(y_train.astype(np.float32), dtype = torch.float32)\n",
    "y_test  = torch.tensor(y_test.astype(np.float32) , dtype = torch.float32)\n"
   ]
  },
  {
   "cell_type": "code",
   "execution_count": 11,
   "id": "9c4ac65a-6edb-47bd-85f7-b02c1d6a2a74",
   "metadata": {
    "tags": []
   },
   "outputs": [
    {
     "name": "stdout",
     "output_type": "stream",
     "text": [
      "<class 'torch.Tensor'> <class 'torch.Tensor'> <class 'torch.Tensor'> <class 'torch.Tensor'>\n"
     ]
    }
   ],
   "source": [
    "print(type(x_train),type(x_test),type(y_train),type(y_test))"
   ]
  },
  {
   "cell_type": "code",
   "execution_count": 12,
   "id": "234c5563-cf5b-4a58-8fb9-ded194e39fd3",
   "metadata": {
    "tags": []
   },
   "outputs": [
    {
     "name": "stdout",
     "output_type": "stream",
     "text": [
      "torch.Size([712, 4]) torch.Size([179, 4]) torch.Size([712]) torch.Size([179])\n"
     ]
    }
   ],
   "source": [
    "print(x_train.shape, x_test.shape, y_train.shape, y_test.shape)\n"
   ]
  },
  {
   "cell_type": "code",
   "execution_count": 13,
   "id": "f2e9fe45-38b9-4266-bd4e-695e67f53d75",
   "metadata": {
    "tags": []
   },
   "outputs": [
    {
     "name": "stdout",
     "output_type": "stream",
     "text": [
      "torch.Size([712, 4]) torch.Size([179, 4]) torch.Size([712, 1]) torch.Size([179, 1])\n"
     ]
    }
   ],
   "source": [
    "y_train = y_train.view(-1,1)\n",
    "y_test = y_test.view(-1,1)\n",
    "\n",
    "print(x_train.shape, x_test.shape, y_train.shape, y_test.shape)"
   ]
  },
  {
   "cell_type": "code",
   "execution_count": 14,
   "id": "3ce72985-bd9b-4d1d-89a8-ff59b54f9cb1",
   "metadata": {
    "tags": []
   },
   "outputs": [
    {
     "name": "stdout",
     "output_type": "stream",
     "text": [
      "4 1\n"
     ]
    }
   ],
   "source": [
    "_, input_features = x_train.shape\n",
    "_,output_features = y_test.shape\n",
    "\n",
    "print(input_features, output_features)"
   ]
  },
  {
   "cell_type": "code",
   "execution_count": 15,
   "id": "2fc9950d-a33b-4e04-b2c7-47b85335a3b2",
   "metadata": {},
   "outputs": [],
   "source": [
    "class Model(nn.Module):\n",
    "    def __init__(self, in_dims, out_dims):\n",
    "        super(Model, self).__init__()\n",
    "        self.linear = nn.Linear(in_dims, out_dims)\n",
    "            \n",
    "    def forward(self, x):\n",
    "        return torch.sigmoid(self.linear(x))"
   ]
  },
  {
   "cell_type": "code",
   "execution_count": null,
   "id": "e853ef6f-47bd-4caf-b12b-84869db75014",
   "metadata": {},
   "outputs": [],
   "source": []
  },
  {
   "cell_type": "code",
   "execution_count": 16,
   "id": "ea984977-a86d-4eed-867e-f0a5bd45fcd3",
   "metadata": {},
   "outputs": [],
   "source": [
    "model = Model(input_features, output_features)"
   ]
  },
  {
   "cell_type": "code",
   "execution_count": 17,
   "id": "779afdcb-9f06-4738-b45e-f54a7828640b",
   "metadata": {},
   "outputs": [],
   "source": [
    "learning_rare = 0.01\n",
    "iters = 1000\n",
    "criterion = nn.BCELoss()\n",
    "optimizer = optim.SGD(model.parameters(), lr=learning_rare)\n"
   ]
  },
  {
   "cell_type": "code",
   "execution_count": 18,
   "id": "654b75bd-6b34-48c9-ad08-f04fbc5bff3d",
   "metadata": {
    "tags": []
   },
   "outputs": [
    {
     "name": "stdout",
     "output_type": "stream",
     "text": [
      "Epoch 0  Loss 0.7317109704017639 \n",
      "Epoch 10  Loss 0.7196103930473328 \n",
      "Epoch 20  Loss 0.7081427574157715 \n",
      "Epoch 30  Loss 0.6972757577896118 \n",
      "Epoch 40  Loss 0.686977744102478 \n",
      "Epoch 50  Loss 0.6772186756134033 \n",
      "Epoch 60  Loss 0.6679692268371582 \n",
      "Epoch 70  Loss 0.6592018604278564 \n",
      "Epoch 80  Loss 0.6508899331092834 \n",
      "Epoch 90  Loss 0.6430082321166992 \n",
      "Epoch 100  Loss 0.6355326175689697 \n",
      "Epoch 110  Loss 0.6284402012825012 \n",
      "Epoch 120  Loss 0.6217095255851746 \n",
      "Epoch 130  Loss 0.6153197884559631 \n",
      "Epoch 140  Loss 0.6092519164085388 \n",
      "Epoch 150  Loss 0.6034874320030212 \n",
      "Epoch 160  Loss 0.5980091094970703 \n",
      "Epoch 170  Loss 0.5928006768226624 \n",
      "Epoch 180  Loss 0.5878467559814453 \n",
      "Epoch 190  Loss 0.5831331014633179 \n",
      "Epoch 200  Loss 0.5786458849906921 \n",
      "Epoch 210  Loss 0.5743725299835205 \n",
      "Epoch 220  Loss 0.5703009366989136 \n",
      "Epoch 230  Loss 0.5664198398590088 \n",
      "Epoch 240  Loss 0.5627186894416809 \n",
      "Epoch 250  Loss 0.5591874122619629 \n",
      "Epoch 260  Loss 0.5558168292045593 \n",
      "Epoch 270  Loss 0.5525978803634644 \n",
      "Epoch 280  Loss 0.5495225787162781 \n",
      "Epoch 290  Loss 0.5465829968452454 \n",
      "Epoch 300  Loss 0.5437718629837036 \n",
      "Epoch 310  Loss 0.5410823225975037 \n",
      "Epoch 320  Loss 0.5385079383850098 \n",
      "Epoch 330  Loss 0.5360426902770996 \n",
      "Epoch 340  Loss 0.53368079662323 \n",
      "Epoch 350  Loss 0.5314170122146606 \n",
      "Epoch 360  Loss 0.5292461514472961 \n",
      "Epoch 370  Loss 0.5271635055541992 \n",
      "Epoch 380  Loss 0.5251646041870117 \n",
      "Epoch 390  Loss 0.5232453346252441 \n",
      "Epoch 400  Loss 0.521401584148407 \n",
      "Epoch 410  Loss 0.519629716873169 \n",
      "Epoch 420  Loss 0.517926037311554 \n",
      "Epoch 430  Loss 0.5162874460220337 \n",
      "Epoch 440  Loss 0.5147106051445007 \n",
      "Epoch 450  Loss 0.5131927132606506 \n",
      "Epoch 460  Loss 0.5117308497428894 \n",
      "Epoch 470  Loss 0.5103223919868469 \n",
      "Epoch 480  Loss 0.5089648962020874 \n",
      "Epoch 490  Loss 0.5076558589935303 \n",
      "Epoch 500  Loss 0.5063931941986084 \n",
      "Epoch 510  Loss 0.5051748752593994 \n",
      "Epoch 520  Loss 0.5039986371994019 \n",
      "Epoch 530  Loss 0.5028627514839172 \n",
      "Epoch 540  Loss 0.5017653703689575 \n",
      "Epoch 550  Loss 0.500704824924469 \n",
      "Epoch 560  Loss 0.4996795356273651 \n",
      "Epoch 570  Loss 0.49868783354759216 \n",
      "Epoch 580  Loss 0.4977283775806427 \n",
      "Epoch 590  Loss 0.4967997372150421 \n",
      "Epoch 600  Loss 0.4959006905555725 \n",
      "Epoch 610  Loss 0.4950299561023712 \n",
      "Epoch 620  Loss 0.49418631196022034 \n",
      "Epoch 630  Loss 0.4933686852455139 \n",
      "Epoch 640  Loss 0.492576003074646 \n",
      "Epoch 650  Loss 0.49180713295936584 \n",
      "Epoch 660  Loss 0.491061270236969 \n",
      "Epoch 670  Loss 0.4903374910354614 \n",
      "Epoch 680  Loss 0.48963481187820435 \n",
      "Epoch 690  Loss 0.4889524579048157 \n",
      "Epoch 700  Loss 0.4882896840572357 \n",
      "Epoch 710  Loss 0.4876456558704376 \n",
      "Epoch 720  Loss 0.4870196580886841 \n",
      "Epoch 730  Loss 0.4864110052585602 \n",
      "Epoch 740  Loss 0.48581910133361816 \n",
      "Epoch 750  Loss 0.48524320125579834 \n",
      "Epoch 760  Loss 0.48468291759490967 \n",
      "Epoch 770  Loss 0.4841374158859253 \n",
      "Epoch 780  Loss 0.48360636830329895 \n",
      "Epoch 790  Loss 0.4830890893936157 \n",
      "Epoch 800  Loss 0.48258525133132935 \n",
      "Epoch 810  Loss 0.4820941984653473 \n",
      "Epoch 820  Loss 0.4816155731678009 \n",
      "Epoch 830  Loss 0.48114892840385437 \n",
      "Epoch 840  Loss 0.4806938171386719 \n",
      "Epoch 850  Loss 0.4802498519420624 \n",
      "Epoch 860  Loss 0.479816734790802 \n",
      "Epoch 870  Loss 0.4793940484523773 \n",
      "Epoch 880  Loss 0.4789813160896301 \n",
      "Epoch 890  Loss 0.4785783886909485 \n",
      "Epoch 900  Loss 0.4781847298145294 \n",
      "Epoch 910  Loss 0.47780025005340576 \n",
      "Epoch 920  Loss 0.4774245321750641 \n",
      "Epoch 930  Loss 0.4770573377609253 \n",
      "Epoch 940  Loss 0.4766983687877655 \n",
      "Epoch 950  Loss 0.4763473868370056 \n",
      "Epoch 960  Loss 0.47600415349006653 \n",
      "Epoch 970  Loss 0.4756683111190796 \n",
      "Epoch 980  Loss 0.47533977031707764 \n",
      "Epoch 990  Loss 0.4750182628631592 \n"
     ]
    }
   ],
   "source": [
    "for epoch in range(iters):\n",
    "    y_pred = model(x_train)\n",
    "    loss = criterion(y_pred, y_train)\n",
    "    \n",
    "    loss.backward()\n",
    "    optimizer.step()\n",
    "    optimizer.zero_grad()\n",
    "    if epoch % 10 == 0:\n",
    "        print(\"Epoch {}  Loss {} \".format(epoch, loss))"
   ]
  },
  {
   "cell_type": "code",
   "execution_count": 23,
   "id": "40d28501-d736-4bd0-9e89-a146b39ad92d",
   "metadata": {
    "tags": []
   },
   "outputs": [],
   "source": [
    "y_pred = model(x_test)"
   ]
  },
  {
   "cell_type": "code",
   "execution_count": 25,
   "id": "8c2b9e77-2520-4a0b-a1f2-295aa5e3faaa",
   "metadata": {},
   "outputs": [
    {
     "data": {
      "text/plain": [
       "tensor([[0.2955],\n",
       "        [0.8769],\n",
       "        [0.1689],\n",
       "        [0.8482],\n",
       "        [0.6672],\n",
       "        [0.9715],\n",
       "        [0.1605],\n",
       "        [0.5998],\n",
       "        [0.6207],\n",
       "        [0.1771],\n",
       "        [0.1256],\n",
       "        [0.1596],\n",
       "        [0.2549],\n",
       "        [0.1537],\n",
       "        [0.5133],\n",
       "        [0.7163],\n",
       "        [0.1590],\n",
       "        [0.1519],\n",
       "        [0.7718],\n",
       "        [0.4042],\n",
       "        [0.1598],\n",
       "        [0.6129],\n",
       "        [0.2625],\n",
       "        [0.2440],\n",
       "        [0.1889],\n",
       "        [0.1670],\n",
       "        [0.6744],\n",
       "        [0.6000],\n",
       "        [0.1927],\n",
       "        [0.7806],\n",
       "        [0.8553],\n",
       "        [0.8768],\n",
       "        [0.1724],\n",
       "        [0.3736],\n",
       "        [0.8743],\n",
       "        [0.6492],\n",
       "        [0.1898],\n",
       "        [0.8950],\n",
       "        [0.6129],\n",
       "        [0.1389],\n",
       "        [0.1808],\n",
       "        [0.1680],\n",
       "        [0.8227],\n",
       "        [0.6564],\n",
       "        [0.3083],\n",
       "        [0.2766],\n",
       "        [0.7253],\n",
       "        [0.3301],\n",
       "        [0.1606],\n",
       "        [0.1682],\n",
       "        [0.4422],\n",
       "        [0.1970],\n",
       "        [0.1437],\n",
       "        [0.1927],\n",
       "        [0.1968],\n",
       "        [0.7335],\n",
       "        [0.2672],\n",
       "        [0.1562],\n",
       "        [0.6220],\n",
       "        [0.1696],\n",
       "        [0.1837],\n",
       "        [0.1596],\n",
       "        [0.3801],\n",
       "        [0.6282],\n",
       "        [0.1801],\n",
       "        [0.6161],\n",
       "        [0.1536],\n",
       "        [0.1594],\n",
       "        [0.8812],\n",
       "        [0.6341],\n",
       "        [0.3932],\n",
       "        [0.6723],\n",
       "        [0.6407],\n",
       "        [0.1970],\n",
       "        [0.1745],\n",
       "        [0.8928],\n",
       "        [0.7290],\n",
       "        [0.3268],\n",
       "        [0.6331],\n",
       "        [0.7476],\n",
       "        [0.1632],\n",
       "        [0.1802],\n",
       "        [0.8762],\n",
       "        [0.1950],\n",
       "        [0.6282],\n",
       "        [0.6462],\n",
       "        [0.2803],\n",
       "        [0.1589],\n",
       "        [0.8361],\n",
       "        [0.6149],\n",
       "        [0.1868],\n",
       "        [0.1679],\n",
       "        [0.8643],\n",
       "        [0.2633],\n",
       "        [0.2558],\n",
       "        [0.7167],\n",
       "        [0.2803],\n",
       "        [0.1366],\n",
       "        [0.2610],\n",
       "        [0.2236],\n",
       "        [0.1417],\n",
       "        [0.7371],\n",
       "        [0.7529],\n",
       "        [0.1589],\n",
       "        [0.5998],\n",
       "        [0.5080],\n",
       "        [0.6004],\n",
       "        [0.1594],\n",
       "        [0.6623],\n",
       "        [0.5998],\n",
       "        [0.1696],\n",
       "        [0.1843],\n",
       "        [0.7363],\n",
       "        [0.8629],\n",
       "        [0.1858],\n",
       "        [0.6702],\n",
       "        [0.3028],\n",
       "        [0.2292],\n",
       "        [0.7112],\n",
       "        [0.1811],\n",
       "        [0.7438],\n",
       "        [0.1846],\n",
       "        [0.6328],\n",
       "        [0.3687],\n",
       "        [0.2866],\n",
       "        [0.1488],\n",
       "        [0.3202],\n",
       "        [0.1898],\n",
       "        [0.1734],\n",
       "        [0.5783],\n",
       "        [0.1472],\n",
       "        [0.3668],\n",
       "        [0.1594],\n",
       "        [0.2633],\n",
       "        [0.1714],\n",
       "        [0.1659],\n",
       "        [0.6069],\n",
       "        [0.1028],\n",
       "        [0.1596],\n",
       "        [0.1802],\n",
       "        [0.1809],\n",
       "        [0.1587],\n",
       "        [0.5997],\n",
       "        [0.1751],\n",
       "        [0.2198],\n",
       "        [0.7441],\n",
       "        [0.9036],\n",
       "        [0.9062],\n",
       "        [0.9475],\n",
       "        [0.1658],\n",
       "        [0.2374],\n",
       "        [0.7276],\n",
       "        [0.1878],\n",
       "        [0.1596],\n",
       "        [0.6863],\n",
       "        [0.1598],\n",
       "        [0.8166],\n",
       "        [0.2447],\n",
       "        [0.5998],\n",
       "        [0.2269],\n",
       "        [0.1688],\n",
       "        [0.1595],\n",
       "        [0.5980],\n",
       "        [0.1953],\n",
       "        [0.7764],\n",
       "        [0.4096],\n",
       "        [0.7043],\n",
       "        [0.2910],\n",
       "        [0.2484],\n",
       "        [0.1594],\n",
       "        [0.2335],\n",
       "        [0.2558],\n",
       "        [0.1594],\n",
       "        [0.1983],\n",
       "        [0.1704],\n",
       "        [0.1813],\n",
       "        [0.1805],\n",
       "        [0.7489],\n",
       "        [0.2409]], grad_fn=<SigmoidBackward0>)"
      ]
     },
     "execution_count": 25,
     "metadata": {},
     "output_type": "execute_result"
    }
   ],
   "source": [
    "y_pred"
   ]
  },
  {
   "cell_type": "code",
   "execution_count": 27,
   "id": "80882f8f-b4c3-410e-af65-7085a6316f70",
   "metadata": {},
   "outputs": [
    {
     "data": {
      "text/plain": [
       "tensor([[[[ 2.2315e-02,  3.8655e-01,  1.0799e-01, -4.0748e-02],\n",
       "          [-1.8118e-01,  2.0325e-01,  2.4774e-01,  5.3541e-01],\n",
       "          [ 7.3568e-02,  1.0492e+00, -2.8557e-01,  6.4469e-01],\n",
       "          [ 8.9446e-02,  4.4049e-01, -9.8773e-02, -3.8180e-02]],\n",
       "\n",
       "         [[-4.6100e-02,  3.8818e-01, -1.8563e-01, -9.7255e-02],\n",
       "          [ 5.9065e-01,  6.1518e-02,  4.5112e-01, -8.2661e-02],\n",
       "          [ 2.0386e-01,  1.0016e+00, -4.3781e-01, -6.4448e-02],\n",
       "          [ 1.5553e-01,  7.6575e-01, -1.1115e-01,  1.0706e-01]],\n",
       "\n",
       "         [[-1.9297e-01,  1.9882e-01,  5.9539e-02,  2.3931e-02],\n",
       "          [ 2.4356e-01,  2.5322e-01, -1.5365e-01, -6.3757e-01],\n",
       "          [ 5.1990e-01,  1.2297e+00, -8.2998e-01, -9.5233e-01],\n",
       "          [-3.7989e-01,  2.4902e-01, -4.6969e-01, -4.3361e-01]],\n",
       "\n",
       "         [[ 3.4361e-01,  1.9741e-01,  9.2198e-03, -6.5252e-01],\n",
       "          [ 3.0333e-01, -2.2779e-01,  2.6046e-01, -8.4714e-01],\n",
       "          [ 6.4809e-01,  6.3779e-01,  3.2549e-01,  3.2153e-01],\n",
       "          [ 5.1021e-01,  4.6711e-01,  4.0827e-01,  2.3104e-01]]],\n",
       "\n",
       "\n",
       "        [[[ 1.9989e-01,  1.9134e-01,  3.0308e-01,  5.4845e-03],\n",
       "          [ 5.5329e-01,  7.2325e-01, -4.7015e-01, -8.6535e-01],\n",
       "          [ 4.5721e-01, -6.1770e-02,  6.3430e-01, -9.9824e-02],\n",
       "          [-1.2444e-01,  1.0752e-01, -1.6287e-01, -4.4692e-01]],\n",
       "\n",
       "         [[ 2.9049e-01, -3.9614e-01,  4.0909e-01, -5.6274e-01],\n",
       "          [ 5.4360e-01,  9.6796e-01, -3.5901e-01, -1.2796e-01],\n",
       "          [ 5.8575e-01,  1.2596e-01,  7.9284e-01,  8.3441e-01],\n",
       "          [ 5.6987e-01, -8.5820e-02,  6.8567e-01,  1.0916e-01]],\n",
       "\n",
       "         [[ 2.8418e-01, -7.9799e-01,  1.0094e+00, -7.4139e-02],\n",
       "          [ 2.0865e-01,  8.3487e-01, -5.4409e-02,  2.8428e-01],\n",
       "          [ 5.1511e-01,  5.6191e-01,  3.0646e-01,  7.1649e-01],\n",
       "          [-1.3518e-01,  1.0721e+00, -4.3116e-01,  6.7516e-01]],\n",
       "\n",
       "         [[-2.7388e-01,  8.5425e-01, -4.0022e-01,  3.2106e-01],\n",
       "          [ 1.9709e-01,  2.9572e-01,  4.6302e-01,  7.1147e-01],\n",
       "          [ 5.6310e-01,  1.2741e+00, -7.0972e-01, -1.3695e-01],\n",
       "          [ 9.6845e-01,  1.3523e+00,  4.6364e-04,  2.5066e-01]]],\n",
       "\n",
       "\n",
       "        [[[ 6.5825e-01,  7.6412e-01, -1.8540e-01, -4.9315e-01],\n",
       "          [ 4.6083e-01, -1.7945e-01,  4.2905e-01, -5.0845e-01],\n",
       "          [ 8.7844e-01,  1.6883e+00, -5.9204e-01,  3.3577e-01],\n",
       "          [ 1.0469e+00,  8.8787e-01,  5.7204e-02, -3.6590e-01]],\n",
       "\n",
       "         [[ 2.2172e-01,  5.6447e-01, -4.9304e-01, -7.9577e-01],\n",
       "          [ 8.4178e-01,  6.7072e-01,  1.9041e-01, -3.5072e-01],\n",
       "          [ 7.7663e-01,  1.3343e+00, -3.1044e-01,  5.1031e-01],\n",
       "          [ 7.7582e-01,  8.3253e-01, -2.5805e-02,  3.0235e-02]],\n",
       "\n",
       "         [[ 2.0561e-01,  8.0804e-04,  5.0062e-01,  2.8311e-01],\n",
       "          [ 1.1409e+00,  9.1309e-01, -6.2931e-02, -4.4447e-01],\n",
       "          [ 3.3217e-01,  1.6075e-01, -3.8297e-02, -7.2046e-01],\n",
       "          [ 4.6841e-01,  4.4726e-01,  1.1788e-02, -2.9246e-01]],\n",
       "\n",
       "         [[ 7.9917e-01,  8.7876e-01,  5.0783e-02,  1.7360e-01],\n",
       "          [ 1.9989e-01, -1.5470e-01,  3.9776e-01, -6.3500e-01],\n",
       "          [ 2.0007e-03,  4.3161e-01, -1.3079e-02,  2.7550e-02],\n",
       "          [ 1.2657e-01,  1.0828e+00, -6.3360e-01,  2.5194e-01]]],\n",
       "\n",
       "\n",
       "        [[[ 1.1366e+00,  3.7557e-01,  6.2484e-01, -3.9347e-02],\n",
       "          [ 3.5213e-01, -7.7978e-01,  6.5449e-01, -9.0411e-01],\n",
       "          [ 1.0676e+00,  4.3465e-01,  4.8532e-01,  2.7027e-01],\n",
       "          [ 8.8393e-01,  1.0378e+00,  6.7945e-02,  3.3892e-01]],\n",
       "\n",
       "         [[ 3.5388e-01,  4.1387e-01,  8.0671e-02,  4.8332e-02],\n",
       "          [ 6.9117e-01, -2.7519e-01,  1.0294e+00,  4.6186e-01],\n",
       "          [-9.4822e-01, -3.9451e-01,  1.9263e-01,  1.1371e-01],\n",
       "          [ 1.7619e-01,  6.1958e-01, -3.3029e-01, -1.7548e-01]],\n",
       "\n",
       "         [[ 5.2320e-02, -7.7414e-02,  1.3706e-01, -4.1225e-01],\n",
       "          [ 4.2919e-01,  9.1262e-01, -4.2033e-02,  5.3074e-01],\n",
       "          [ 2.7881e-01,  4.4702e-01,  1.6228e-01,  2.1236e-01],\n",
       "          [-2.2870e-01,  3.5713e-01, -4.0092e-01, -5.5666e-01]],\n",
       "\n",
       "         [[ 5.8680e-01,  6.7025e-01, -9.1768e-02, -2.8802e-01],\n",
       "          [ 2.5897e-01, -1.4840e-01,  7.5490e-01,  5.7662e-01],\n",
       "          [ 2.7578e-01,  5.9203e-01, -7.5774e-02,  1.6064e-01],\n",
       "          [ 8.2135e-01,  3.3214e-01,  2.8708e-01, -7.1019e-01]]]])"
      ]
     },
     "execution_count": 27,
     "metadata": {},
     "output_type": "execute_result"
    }
   ],
   "source": [
    "import torch\n",
    "\n",
    "# define a floating point model\n",
    "class M(torch.nn.Module):\n",
    "    def __init__(self):\n",
    "        super(M, self).__init__()\n",
    "        self.fc = torch.nn.Linear(4, 4)\n",
    "\n",
    "    def forward(self, x):\n",
    "        x = self.fc(x)\n",
    "        return x\n",
    "\n",
    "# create a model instance\n",
    "model_fp32 = M()\n",
    "# create a quantized model instance\n",
    "model_int8 = torch.quantization.quantize_dynamic(\n",
    "    model_fp32,  # the original model\n",
    "    {torch.nn.Linear},  # a set of layers to dynamically quantize\n",
    "    dtype=torch.qint8)  # the target dtype for quantized weights\n",
    "\n",
    "# run the model\n",
    "input_fp32 = torch.randn(4, 4, 4, 4)\n",
    "res = model_int8(input_fp32)\n",
    "res"
   ]
  }
 ],
 "metadata": {
  "kernelspec": {
   "display_name": "Python 3 (ipykernel)",
   "language": "python",
   "name": "python3"
  },
  "language_info": {
   "codemirror_mode": {
    "name": "ipython",
    "version": 3
   },
   "file_extension": ".py",
   "mimetype": "text/x-python",
   "name": "python",
   "nbconvert_exporter": "python",
   "pygments_lexer": "ipython3",
   "version": "3.9.12"
  }
 },
 "nbformat": 4,
 "nbformat_minor": 5
}
