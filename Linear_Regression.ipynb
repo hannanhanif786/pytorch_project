{
 "cells": [
  {
   "cell_type": "code",
   "execution_count": 1,
   "id": "0d265ffb-d23e-4138-a26b-84e8abb1eb48",
   "metadata": {
    "tags": []
   },
   "outputs": [],
   "source": [
    "import torch\n",
    "        "
   ]
  },
  {
   "cell_type": "code",
   "execution_count": 2,
   "id": "af3b36b7-ee70-4924-9094-675f479bcb7e",
   "metadata": {},
   "outputs": [],
   "source": [
    "def forward_pass(x):\n",
    "    return w*x\n",
    "\n",
    "def loss_cal(y,y_pred):\n",
    "    return ((y-y_pred)**2).mean()"
   ]
  },
  {
   "cell_type": "code",
   "execution_count": 3,
   "id": "c94180d2-2ac3-4089-9c02-3df65bd7980b",
   "metadata": {
    "collapsed": true,
    "jupyter": {
     "outputs_hidden": true
    },
    "tags": []
   },
   "outputs": [
    {
     "name": "stdout",
     "output_type": "stream",
     "text": [
      "tensor([1., 2., 3., 4., 5.]) tensor([10., 20., 30., 40., 50.]) tensor(1., requires_grad=True)\n"
     ]
    }
   ],
   "source": [
    "x=torch.tensor([1,2,3,4,5], dtype=torch.float32)\n",
    "y=torch.tensor([10,20,30,40,50],dtype=torch.float32)\n",
    "\n",
    "w=torch.tensor(1, dtype=torch.float32, requires_grad=True)\n",
    "\n",
    "print(x, y, w)"
   ]
  },
  {
   "cell_type": "code",
   "execution_count": 9,
   "id": "b7521bcb-8f68-4b75-8e4b-02041500c9de",
   "metadata": {
    "collapsed": true,
    "jupyter": {
     "outputs_hidden": true
    },
    "tags": []
   },
   "outputs": [
    {
     "name": "stdout",
     "output_type": "stream",
     "text": [
      "loss tensor(9.2587e-11, grad_fn=<MeanBackward0>)\n",
      "loss : tensor(9.2587e-11, grad_fn=<MeanBackward0>)\n",
      "lea tensor(10.0000, requires_grad=True)\n",
      "w tensor(10.0000, requires_grad=True)\n",
      "loss tensor(3.3469e-11, grad_fn=<MeanBackward0>)\n",
      "loss : tensor(3.3469e-11, grad_fn=<MeanBackward0>)\n",
      "lea tensor(10.0000, requires_grad=True)\n",
      "w tensor(10.0000, requires_grad=True)\n",
      "loss tensor(3.3469e-11, grad_fn=<MeanBackward0>)\n",
      "loss : tensor(3.3469e-11, grad_fn=<MeanBackward0>)\n",
      "lea tensor(10.0000, requires_grad=True)\n",
      "w tensor(10.0000, requires_grad=True)\n",
      "loss tensor(3.3469e-11, grad_fn=<MeanBackward0>)\n",
      "loss : tensor(3.3469e-11, grad_fn=<MeanBackward0>)\n",
      "lea tensor(10.0000, requires_grad=True)\n",
      "w tensor(10.0000, requires_grad=True)\n",
      "loss tensor(3.3469e-11, grad_fn=<MeanBackward0>)\n",
      "loss : tensor(3.3469e-11, grad_fn=<MeanBackward0>)\n",
      "lea tensor(10.0000, requires_grad=True)\n",
      "w tensor(10.0000, requires_grad=True)\n",
      "loss tensor(3.3469e-11, grad_fn=<MeanBackward0>)\n",
      "loss : tensor(3.3469e-11, grad_fn=<MeanBackward0>)\n",
      "lea tensor(10.0000, requires_grad=True)\n",
      "w tensor(10.0000, requires_grad=True)\n",
      "loss tensor(3.3469e-11, grad_fn=<MeanBackward0>)\n",
      "loss : tensor(3.3469e-11, grad_fn=<MeanBackward0>)\n",
      "lea tensor(10.0000, requires_grad=True)\n",
      "w tensor(10.0000, requires_grad=True)\n",
      "loss tensor(3.3469e-11, grad_fn=<MeanBackward0>)\n",
      "loss : tensor(3.3469e-11, grad_fn=<MeanBackward0>)\n",
      "lea tensor(10.0000, requires_grad=True)\n",
      "w tensor(10.0000, requires_grad=True)\n",
      "loss tensor(3.3469e-11, grad_fn=<MeanBackward0>)\n",
      "loss : tensor(3.3469e-11, grad_fn=<MeanBackward0>)\n",
      "lea tensor(10.0000, requires_grad=True)\n",
      "w tensor(10.0000, requires_grad=True)\n",
      "loss tensor(3.3469e-11, grad_fn=<MeanBackward0>)\n",
      "loss : tensor(3.3469e-11, grad_fn=<MeanBackward0>)\n",
      "lea tensor(10.0000, requires_grad=True)\n",
      "w tensor(10.0000, requires_grad=True)\n",
      "loss tensor(3.3469e-11, grad_fn=<MeanBackward0>)\n",
      "loss : tensor(3.3469e-11, grad_fn=<MeanBackward0>)\n",
      "lea tensor(10.0000, requires_grad=True)\n",
      "w tensor(10.0000, requires_grad=True)\n",
      "loss tensor(3.3469e-11, grad_fn=<MeanBackward0>)\n",
      "loss : tensor(3.3469e-11, grad_fn=<MeanBackward0>)\n",
      "lea tensor(10.0000, requires_grad=True)\n",
      "w tensor(10.0000, requires_grad=True)\n",
      "loss tensor(3.3469e-11, grad_fn=<MeanBackward0>)\n",
      "loss : tensor(3.3469e-11, grad_fn=<MeanBackward0>)\n",
      "lea tensor(10.0000, requires_grad=True)\n",
      "w tensor(10.0000, requires_grad=True)\n",
      "loss tensor(3.3469e-11, grad_fn=<MeanBackward0>)\n",
      "loss : tensor(3.3469e-11, grad_fn=<MeanBackward0>)\n",
      "lea tensor(10.0000, requires_grad=True)\n",
      "w tensor(10.0000, requires_grad=True)\n",
      "loss tensor(3.3469e-11, grad_fn=<MeanBackward0>)\n",
      "loss : tensor(3.3469e-11, grad_fn=<MeanBackward0>)\n",
      "lea tensor(10.0000, requires_grad=True)\n",
      "w tensor(10.0000, requires_grad=True)\n",
      "loss tensor(3.3469e-11, grad_fn=<MeanBackward0>)\n",
      "loss : tensor(3.3469e-11, grad_fn=<MeanBackward0>)\n",
      "lea tensor(10.0000, requires_grad=True)\n",
      "w tensor(10.0000, requires_grad=True)\n",
      "loss tensor(3.3469e-11, grad_fn=<MeanBackward0>)\n",
      "loss : tensor(3.3469e-11, grad_fn=<MeanBackward0>)\n",
      "lea tensor(10.0000, requires_grad=True)\n",
      "w tensor(10.0000, requires_grad=True)\n",
      "loss tensor(3.3469e-11, grad_fn=<MeanBackward0>)\n",
      "loss : tensor(3.3469e-11, grad_fn=<MeanBackward0>)\n",
      "lea tensor(10.0000, requires_grad=True)\n",
      "w tensor(10.0000, requires_grad=True)\n",
      "loss tensor(3.3469e-11, grad_fn=<MeanBackward0>)\n",
      "loss : tensor(3.3469e-11, grad_fn=<MeanBackward0>)\n",
      "lea tensor(10.0000, requires_grad=True)\n",
      "w tensor(10.0000, requires_grad=True)\n",
      "loss tensor(3.3469e-11, grad_fn=<MeanBackward0>)\n",
      "loss : tensor(3.3469e-11, grad_fn=<MeanBackward0>)\n",
      "lea tensor(10.0000, requires_grad=True)\n",
      "w tensor(10.0000, requires_grad=True)\n"
     ]
    }
   ],
   "source": [
    "learning_rate = 0.01\n",
    "iters = 20\n",
    "\n",
    "for epoch in range(iters):\n",
    "    y_pred = forward_pass(x)\n",
    "    loss = loss_cal(y,y_pred)\n",
    "    print(\"loss\",loss)\n",
    "    loss.backward()\n",
    "    print(\"loss :\",loss)\n",
    "    with torch.no_grad():\n",
    "        w-=learning_rate*w.grad\n",
    "        print(\"lea\",w)\n",
    "    w.grad.zero_()\n",
    "    print(\"w\",w)\n",
    "    \n",
    "    # print(\"Epoc {},loss {},\".format(epoch, loss))"
   ]
  },
  {
   "cell_type": "code",
   "execution_count": 5,
   "id": "6b835aad-990e-4e11-b59a-f6a2bf62714f",
   "metadata": {},
   "outputs": [
    {
     "name": "stdout",
     "output_type": "stream",
     "text": [
      "tensor(49.6873, grad_fn=<MulBackward0>)\n"
     ]
    }
   ],
   "source": [
    "print(forward_pass(5))"
   ]
  }
 ],
 "metadata": {
  "kernelspec": {
   "display_name": "Python 3 (ipykernel)",
   "language": "python",
   "name": "python3"
  },
  "language_info": {
   "codemirror_mode": {
    "name": "ipython",
    "version": 3
   },
   "file_extension": ".py",
   "mimetype": "text/x-python",
   "name": "python",
   "nbconvert_exporter": "python",
   "pygments_lexer": "ipython3",
   "version": "3.9.12"
  }
 },
 "nbformat": 4,
 "nbformat_minor": 5
}
