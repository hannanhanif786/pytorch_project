{
 "cells": [
  {
   "cell_type": "code",
   "execution_count": 1,
   "id": "6c8efe06-6138-4e33-8d8e-a64bbd9bea90",
   "metadata": {},
   "outputs": [],
   "source": [
    "import torch\n",
    "import torch.nn as nn\n",
    "import torch.optim as optim"
   ]
  },
  {
   "cell_type": "code",
   "execution_count": 2,
   "id": "19ab6866-4d73-42bf-82ab-a8650e10cd30",
   "metadata": {},
   "outputs": [],
   "source": [
    "x = torch.tensor([1,2,3,4],dtype=torch.float32 )\n",
    "y = torch.tensor([12,24,36,48], dtype=torch.float32)\n",
    "x = x.view(-1,1)\n",
    "y = y.view(-1,1)\n"
   ]
  },
  {
   "cell_type": "code",
   "execution_count": 3,
   "id": "3a28c3e9-8040-4712-936a-db4b2f00b966",
   "metadata": {},
   "outputs": [
    {
     "data": {
      "text/plain": [
       "(1, 4)"
      ]
     },
     "execution_count": 3,
     "metadata": {},
     "output_type": "execute_result"
    }
   ],
   "source": [
    "samples,input_feature=x.shape\n",
    "input_feature, samples"
   ]
  },
  {
   "cell_type": "code",
   "execution_count": 4,
   "id": "f941bf3d-c3f7-4061-a4a6-fe6f94611138",
   "metadata": {},
   "outputs": [],
   "source": [
    "output_features = 1"
   ]
  },
  {
   "cell_type": "code",
   "execution_count": 5,
   "id": "42c49944-9091-4573-b904-53d467396c2c",
   "metadata": {},
   "outputs": [],
   "source": [
    "model=nn.Linear(input_feature,output_features)"
   ]
  },
  {
   "cell_type": "code",
   "execution_count": 6,
   "id": "80004510-0fa8-48b1-b10f-c34f6d594b1b",
   "metadata": {},
   "outputs": [],
   "source": [
    "learning_rates = 0.01\n",
    "iters = 100\n",
    "criterion = nn.MSELoss()\n",
    "optimizer = optim.SGD(model.parameters(),lr=learning_rates)"
   ]
  },
  {
   "cell_type": "code",
   "execution_count": 7,
   "id": "e2576762-6a95-4396-83f7-5e63fbf96e7f",
   "metadata": {
    "tags": []
   },
   "outputs": [
    {
     "name": "stdout",
     "output_type": "stream",
     "text": [
      "ECHO 0 , LOSS: 1239.3350830078125 \n",
      "ECHO 1 , LOSS: 860.6366577148438 \n",
      "ECHO 2 , LOSS: 597.8616943359375 \n",
      "ECHO 3 , LOSS: 415.523681640625 \n",
      "ECHO 4 , LOSS: 288.9990539550781 \n",
      "ECHO 5 , LOSS: 201.2022705078125 \n",
      "ECHO 6 , LOSS: 140.2779541015625 \n",
      "ECHO 7 , LOSS: 97.99983215332031 \n",
      "ECHO 8 , LOSS: 68.65994262695312 \n",
      "ECHO 9 , LOSS: 48.29770278930664 \n",
      "ECHO 10 , LOSS: 34.16484069824219 \n",
      "ECHO 11 , LOSS: 24.35445213317871 \n",
      "ECHO 12 , LOSS: 17.543352127075195 \n",
      "ECHO 13 , LOSS: 12.81341552734375 \n",
      "ECHO 14 , LOSS: 9.527580261230469 \n",
      "ECHO 15 , LOSS: 7.243821144104004 \n",
      "ECHO 16 , LOSS: 5.655372142791748 \n",
      "ECHO 17 , LOSS: 4.549426078796387 \n",
      "ECHO 18 , LOSS: 3.778289556503296 \n",
      "ECHO 19 , LOSS: 3.2394957542419434 \n",
      "ECHO 20 , LOSS: 2.861948013305664 \n",
      "ECHO 21 , LOSS: 2.5963096618652344 \n",
      "ECHO 22 , LOSS: 2.4083316326141357 \n",
      "ECHO 23 , LOSS: 2.2742738723754883 \n",
      "ECHO 24 , LOSS: 2.1776440143585205 \n",
      "ECHO 25 , LOSS: 2.1070122718811035 \n",
      "ECHO 26 , LOSS: 2.0544352531433105 \n",
      "ECHO 27 , LOSS: 2.0144119262695312 \n",
      "ECHO 28 , LOSS: 1.9831225872039795 \n",
      "ECHO 29 , LOSS: 1.9579100608825684 \n",
      "ECHO 30 , LOSS: 1.9369399547576904 \n",
      "ECHO 31 , LOSS: 1.918925166130066 \n",
      "ECHO 32 , LOSS: 1.9029942750930786 \n",
      "ECHO 33 , LOSS: 1.8885178565979004 \n",
      "ECHO 34 , LOSS: 1.8750803470611572 \n",
      "ECHO 35 , LOSS: 1.8623783588409424 \n",
      "ECHO 36 , LOSS: 1.850209355354309 \n",
      "ECHO 37 , LOSS: 1.8384298086166382 \n",
      "ECHO 38 , LOSS: 1.8269401788711548 \n",
      "ECHO 39 , LOSS: 1.8156726360321045 \n",
      "ECHO 40 , LOSS: 1.8045769929885864 \n",
      "ECHO 41 , LOSS: 1.7936193943023682 \n",
      "ECHO 42 , LOSS: 1.782780408859253 \n",
      "ECHO 43 , LOSS: 1.7720425128936768 \n",
      "ECHO 44 , LOSS: 1.7613929510116577 \n",
      "ECHO 45 , LOSS: 1.7508217096328735 \n",
      "ECHO 46 , LOSS: 1.7403268814086914 \n",
      "ECHO 47 , LOSS: 1.7299034595489502 \n",
      "ECHO 48 , LOSS: 1.7195473909378052 \n",
      "ECHO 49 , LOSS: 1.7092595100402832 \n",
      "ECHO 50 , LOSS: 1.6990318298339844 \n",
      "ECHO 51 , LOSS: 1.6888692378997803 \n",
      "ECHO 52 , LOSS: 1.678768277168274 \n",
      "ECHO 53 , LOSS: 1.6687300205230713 \n",
      "ECHO 54 , LOSS: 1.658752202987671 \n",
      "ECHO 55 , LOSS: 1.6488325595855713 \n",
      "ECHO 56 , LOSS: 1.6389741897583008 \n",
      "ECHO 57 , LOSS: 1.6291733980178833 \n",
      "ECHO 58 , LOSS: 1.6194350719451904 \n",
      "ECHO 59 , LOSS: 1.6097508668899536 \n",
      "ECHO 60 , LOSS: 1.6001263856887817 \n",
      "ECHO 61 , LOSS: 1.5905587673187256 \n",
      "ECHO 62 , LOSS: 1.5810502767562866 \n",
      "ECHO 63 , LOSS: 1.571597933769226 \n",
      "ECHO 64 , LOSS: 1.5622018575668335 \n",
      "ECHO 65 , LOSS: 1.5528615713119507 \n",
      "ECHO 66 , LOSS: 1.5435746908187866 \n",
      "ECHO 67 , LOSS: 1.5343458652496338 \n",
      "ECHO 68 , LOSS: 1.5251723527908325 \n",
      "ECHO 69 , LOSS: 1.516053557395935 \n",
      "ECHO 70 , LOSS: 1.5069916248321533 \n",
      "ECHO 71 , LOSS: 1.4979808330535889 \n",
      "ECHO 72 , LOSS: 1.4890249967575073 \n",
      "ECHO 73 , LOSS: 1.4801219701766968 \n",
      "ECHO 74 , LOSS: 1.4712719917297363 \n",
      "ECHO 75 , LOSS: 1.462475299835205 \n",
      "ECHO 76 , LOSS: 1.4537312984466553 \n",
      "ECHO 77 , LOSS: 1.4450411796569824 \n",
      "ECHO 78 , LOSS: 1.436400294303894 \n",
      "ECHO 79 , LOSS: 1.4278125762939453 \n",
      "ECHO 80 , LOSS: 1.4192745685577393 \n",
      "ECHO 81 , LOSS: 1.410790205001831 \n",
      "ECHO 82 , LOSS: 1.4023551940917969 \n",
      "ECHO 83 , LOSS: 1.3939695358276367 \n",
      "ECHO 84 , LOSS: 1.3856370449066162 \n",
      "ECHO 85 , LOSS: 1.3773506879806519 \n",
      "ECHO 86 , LOSS: 1.3691169023513794 \n",
      "ECHO 87 , LOSS: 1.3609315156936646 \n",
      "ECHO 88 , LOSS: 1.3527963161468506 \n",
      "ECHO 89 , LOSS: 1.3447057008743286 \n",
      "ECHO 90 , LOSS: 1.3366668224334717 \n",
      "ECHO 91 , LOSS: 1.3286762237548828 \n",
      "ECHO 92 , LOSS: 1.32073175907135 \n",
      "ECHO 93 , LOSS: 1.3128345012664795 \n",
      "ECHO 94 , LOSS: 1.3049867153167725 \n",
      "ECHO 95 , LOSS: 1.2971818447113037 \n",
      "ECHO 96 , LOSS: 1.2894282341003418 \n",
      "ECHO 97 , LOSS: 1.2817169427871704 \n",
      "ECHO 98 , LOSS: 1.2740554809570312 \n",
      "ECHO 99 , LOSS: 1.2664368152618408 \n"
     ]
    }
   ],
   "source": [
    "for epoch in range(iters):\n",
    "    y_pred = model(x)# forwad pass\n",
    "    loss = criterion(y,y_pred) #loss\n",
    "    \n",
    "    loss.backward() #backprop\n",
    "    \n",
    "    optimizer.step() #weights update\n",
    "    optimizer.zero_grad()#empty down the gradient\n",
    "    \n",
    "    print(\"ECHO {} , LOSS: {} \".format(epoch,loss))"
   ]
  },
  {
   "cell_type": "code",
   "execution_count": null,
   "id": "2881417e-2393-4863-8158-838381ddb624",
   "metadata": {},
   "outputs": [],
   "source": []
  }
 ],
 "metadata": {
  "kernelspec": {
   "display_name": "Python 3 (ipykernel)",
   "language": "python",
   "name": "python3"
  },
  "language_info": {
   "codemirror_mode": {
    "name": "ipython",
    "version": 3
   },
   "file_extension": ".py",
   "mimetype": "text/x-python",
   "name": "python",
   "nbconvert_exporter": "python",
   "pygments_lexer": "ipython3",
   "version": "3.9.12"
  }
 },
 "nbformat": 4,
 "nbformat_minor": 5
}
