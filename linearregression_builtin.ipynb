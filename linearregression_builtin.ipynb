{
 "cells": [
  {
   "cell_type": "code",
   "execution_count": 1,
   "id": "6c8efe06-6138-4e33-8d8e-a64bbd9bea90",
   "metadata": {},
   "outputs": [],
   "source": [
    "import torch\n",
    "import torch.nn as nn\n",
    "import torch.optim as optim"
   ]
  },
  {
   "cell_type": "code",
   "execution_count": 2,
   "id": "19ab6866-4d73-42bf-82ab-a8650e10cd30",
   "metadata": {},
   "outputs": [],
   "source": [
    "x = torch.tensor([1,2,3,4],dtype=torch.float32 )\n",
    "y = torch.tensor([12,24,36,48], dtype=torch.float32)\n",
    "x = x.view(-1,1)\n",
    "y = y.view(-1,1)\n"
   ]
  },
  {
   "cell_type": "code",
   "execution_count": 3,
   "id": "3a28c3e9-8040-4712-936a-db4b2f00b966",
   "metadata": {},
   "outputs": [],
   "source": [
    "samples,input_feature=x.shape"
   ]
  },
  {
   "cell_type": "code",
   "execution_count": 4,
   "id": "f941bf3d-c3f7-4061-a4a6-fe6f94611138",
   "metadata": {},
   "outputs": [],
   "source": [
    "output_features = 1"
   ]
  },
  {
   "cell_type": "code",
   "execution_count": 5,
   "id": "42c49944-9091-4573-b904-53d467396c2c",
   "metadata": {},
   "outputs": [],
   "source": [
    "model=nn.Linear(input_feature,output_features)"
   ]
  },
  {
   "cell_type": "code",
   "execution_count": 6,
   "id": "80004510-0fa8-48b1-b10f-c34f6d594b1b",
   "metadata": {},
   "outputs": [],
   "source": [
    "learning_rates = 0.01\n",
    "iters = 100\n",
    "criterion = nn.MSELoss()\n",
    "optimizer = optim.SGD(model.parameters(),lr=learning_rates)"
   ]
  },
  {
   "cell_type": "code",
   "execution_count": 7,
   "id": "e2576762-6a95-4396-83f7-5e63fbf96e7f",
   "metadata": {
    "collapsed": true,
    "jupyter": {
     "outputs_hidden": true
    },
    "tags": []
   },
   "outputs": [
    {
     "name": "stdout",
     "output_type": "stream",
     "text": [
      "ECHO 0 , LOSS: 1034.966796875 \n",
      "ECHO 1 , LOSS: 718.656005859375 \n",
      "ECHO 2 , LOSS: 499.1717529296875 \n",
      "ECHO 3 , LOSS: 346.8731994628906 \n",
      "ECHO 4 , LOSS: 241.193359375 \n",
      "ECHO 5 , LOSS: 167.86141967773438 \n",
      "ECHO 6 , LOSS: 116.97486877441406 \n",
      "ECHO 7 , LOSS: 81.6628189086914 \n",
      "ECHO 8 , LOSS: 57.15753173828125 \n",
      "ECHO 9 , LOSS: 40.15087890625 \n",
      "ECHO 10 , LOSS: 28.347400665283203 \n",
      "ECHO 11 , LOSS: 20.154300689697266 \n",
      "ECHO 12 , LOSS: 14.466382026672363 \n",
      "ECHO 13 , LOSS: 10.516765594482422 \n",
      "ECHO 14 , LOSS: 7.773361682891846 \n",
      "ECHO 15 , LOSS: 5.8669209480285645 \n",
      "ECHO 16 , LOSS: 4.541254997253418 \n",
      "ECHO 17 , LOSS: 3.618587017059326 \n",
      "ECHO 18 , LOSS: 2.9755783081054688 \n",
      "ECHO 19 , LOSS: 2.5266270637512207 \n",
      "ECHO 20 , LOSS: 2.212351083755493 \n",
      "ECHO 21 , LOSS: 1.991529941558838 \n",
      "ECHO 22 , LOSS: 1.835583209991455 \n",
      "ECHO 23 , LOSS: 1.7246609926223755 \n",
      "ECHO 24 , LOSS: 1.6449975967407227 \n",
      "ECHO 25 , LOSS: 1.5870368480682373 \n",
      "ECHO 26 , LOSS: 1.5441595315933228 \n",
      "ECHO 27 , LOSS: 1.511759877204895 \n",
      "ECHO 28 , LOSS: 1.4866442680358887 \n",
      "ECHO 29 , LOSS: 1.4665992259979248 \n",
      "ECHO 30 , LOSS: 1.450091004371643 \n",
      "ECHO 31 , LOSS: 1.4360510110855103 \n",
      "ECHO 32 , LOSS: 1.423735499382019 \n",
      "ECHO 33 , LOSS: 1.4126381874084473 \n",
      "ECHO 34 , LOSS: 1.402398943901062 \n",
      "ECHO 35 , LOSS: 1.3927676677703857 \n",
      "ECHO 36 , LOSS: 1.3835783004760742 \n",
      "ECHO 37 , LOSS: 1.374706745147705 \n",
      "ECHO 38 , LOSS: 1.3660712242126465 \n",
      "ECHO 39 , LOSS: 1.3576161861419678 \n",
      "ECHO 40 , LOSS: 1.3492987155914307 \n",
      "ECHO 41 , LOSS: 1.3410921096801758 \n",
      "ECHO 42 , LOSS: 1.3329756259918213 \n",
      "ECHO 43 , LOSS: 1.3249410390853882 \n",
      "ECHO 44 , LOSS: 1.316970944404602 \n",
      "ECHO 45 , LOSS: 1.3090661764144897 \n",
      "ECHO 46 , LOSS: 1.3012166023254395 \n",
      "ECHO 47 , LOSS: 1.2934205532073975 \n",
      "ECHO 48 , LOSS: 1.2856770753860474 \n",
      "ECHO 49 , LOSS: 1.2779823541641235 \n",
      "ECHO 50 , LOSS: 1.2703365087509155 \n",
      "ECHO 51 , LOSS: 1.2627382278442383 \n",
      "ECHO 52 , LOSS: 1.255186915397644 \n",
      "ECHO 53 , LOSS: 1.2476801872253418 \n",
      "ECHO 54 , LOSS: 1.2402188777923584 \n",
      "ECHO 55 , LOSS: 1.232804298400879 \n",
      "ECHO 56 , LOSS: 1.2254319190979004 \n",
      "ECHO 57 , LOSS: 1.2181057929992676 \n",
      "ECHO 58 , LOSS: 1.210821270942688 \n",
      "ECHO 59 , LOSS: 1.203583002090454 \n",
      "ECHO 60 , LOSS: 1.196385383605957 \n",
      "ECHO 61 , LOSS: 1.189232587814331 \n",
      "ECHO 62 , LOSS: 1.1821216344833374 \n",
      "ECHO 63 , LOSS: 1.175053358078003 \n",
      "ECHO 64 , LOSS: 1.1680301427841187 \n",
      "ECHO 65 , LOSS: 1.161045789718628 \n",
      "ECHO 66 , LOSS: 1.1541039943695068 \n",
      "ECHO 67 , LOSS: 1.1472028493881226 \n",
      "ECHO 68 , LOSS: 1.1403439044952393 \n",
      "ECHO 69 , LOSS: 1.1335275173187256 \n",
      "ECHO 70 , LOSS: 1.1267499923706055 \n",
      "ECHO 71 , LOSS: 1.120012640953064 \n",
      "ECHO 72 , LOSS: 1.113316535949707 \n",
      "ECHO 73 , LOSS: 1.1066603660583496 \n",
      "ECHO 74 , LOSS: 1.100043773651123 \n",
      "ECHO 75 , LOSS: 1.0934667587280273 \n",
      "ECHO 76 , LOSS: 1.0869293212890625 \n",
      "ECHO 77 , LOSS: 1.0804306268692017 \n",
      "ECHO 78 , LOSS: 1.0739703178405762 \n",
      "ECHO 79 , LOSS: 1.067549705505371 \n",
      "ECHO 80 , LOSS: 1.0611658096313477 \n",
      "ECHO 81 , LOSS: 1.0548230409622192 \n",
      "ECHO 82 , LOSS: 1.048515796661377 \n",
      "ECHO 83 , LOSS: 1.042245864868164 \n",
      "ECHO 84 , LOSS: 1.036015510559082 \n",
      "ECHO 85 , LOSS: 1.029821753501892 \n",
      "ECHO 86 , LOSS: 1.023664951324463 \n",
      "ECHO 87 , LOSS: 1.0175446271896362 \n",
      "ECHO 88 , LOSS: 1.011460781097412 \n",
      "ECHO 89 , LOSS: 1.0054121017456055 \n",
      "ECHO 90 , LOSS: 0.9994013905525208 \n",
      "ECHO 91 , LOSS: 0.9934265613555908 \n",
      "ECHO 92 , LOSS: 0.9874866604804993 \n",
      "ECHO 93 , LOSS: 0.9815824031829834 \n",
      "ECHO 94 , LOSS: 0.9757133722305298 \n",
      "ECHO 95 , LOSS: 0.9698804020881653 \n",
      "ECHO 96 , LOSS: 0.9640810489654541 \n",
      "ECHO 97 , LOSS: 0.9583175778388977 \n",
      "ECHO 98 , LOSS: 0.9525878429412842 \n",
      "ECHO 99 , LOSS: 0.9468920230865479 \n"
     ]
    }
   ],
   "source": [
    "for epoch in range(iters):\n",
    "    y_pred = model(x)# forwad pass\n",
    "    loss = criterion(y,y_pred) #loss\n",
    "    \n",
    "    loss.backward() #backprop\n",
    "    \n",
    "    optimizer.step() #weights update\n",
    "    optimizer.zero_grad()#empty down the gradient\n",
    "    \n",
    "    print(\"ECHO {} , LOSS: {} \".format(epoch,loss))"
   ]
  },
  {
   "cell_type": "code",
   "execution_count": null,
   "id": "2881417e-2393-4863-8158-838381ddb624",
   "metadata": {},
   "outputs": [],
   "source": []
  }
 ],
 "metadata": {
  "kernelspec": {
   "display_name": "Python 3 (ipykernel)",
   "language": "python",
   "name": "python3"
  },
  "language_info": {
   "codemirror_mode": {
    "name": "ipython",
    "version": 3
   },
   "file_extension": ".py",
   "mimetype": "text/x-python",
   "name": "python",
   "nbconvert_exporter": "python",
   "pygments_lexer": "ipython3",
   "version": "3.9.12"
  }
 },
 "nbformat": 4,
 "nbformat_minor": 5
}
